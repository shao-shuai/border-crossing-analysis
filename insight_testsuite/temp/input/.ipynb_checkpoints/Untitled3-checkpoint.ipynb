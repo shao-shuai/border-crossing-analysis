{
 "cells": [
  {
   "cell_type": "code",
   "execution_count": 1,
   "metadata": {},
   "outputs": [],
   "source": [
    "import csv, sys\n",
    "from datetime import datetime as dt\n",
    "import collections"
   ]
  },
  {
   "cell_type": "code",
   "execution_count": 2,
   "metadata": {},
   "outputs": [
    {
     "data": {
      "text/plain": [
       "[BorderCross(Port_Name='Derby Line', State='Vermont', Port_Code='209', Border='US-Canada Border', Date='03/01/2019 12:00:00 AM', Measure='Truck Containers Full', Value='6483', Location='POINT (-72.09944 45.005)'),\n",
       " BorderCross(Port_Name='Norton', State='Vermont', Port_Code='211', Border='US-Canada Border', Date='03/01/2019 12:00:00 AM', Measure='Trains', Value='19', Location='POINT (-71.79528000000002 45.01)'),\n",
       " BorderCross(Port_Name='Calexico', State='California', Port_Code='2503', Border='US-Mexico Border', Date='03/01/2019 12:00:00 AM', Measure='Pedestrians', Value='346158', Location='POINT (-115.49806000000001 32.67889)'),\n",
       " BorderCross(Port_Name='Hidalgo', State='Texas', Port_Code='2305', Border='US-Mexico Border', Date='02/01/2019 12:00:00 AM', Measure='Pedestrians', Value='156891', Location='POINT (-98.26278 26.1)'),\n",
       " BorderCross(Port_Name='Frontier', State='Washington', Port_Code='3020', Border='US-Canada Border', Date='02/01/2019 12:00:00 AM', Measure='Truck Containers Empty', Value='1319', Location='POINT (-117.78134000000001 48.910160000000005)'),\n",
       " BorderCross(Port_Name='Presidio', State='Texas', Port_Code='2403', Border='US-Mexico Border', Date='02/01/2019 12:00:00 AM', Measure='Pedestrians', Value='15272', Location='POINT (-104.37167 29.56056)'),\n",
       " BorderCross(Port_Name='Eagle Pass', State='Texas', Port_Code='2303', Border='US-Mexico Border', Date='01/01/2019 12:00:00 AM', Measure='Pedestrians', Value='56810', Location='POINT (-100.49917 28.70889)')]"
      ]
     },
     "execution_count": 2,
     "metadata": {},
     "output_type": "execute_result"
    }
   ],
   "source": [
    "#BorderCross namedtuple, including all fields\n",
    "BorderCross = collections.namedtuple('BorderCross', 'Port_Name, State, Port_Code, Border, Date, Measure, Value, Location')\n",
    "\n",
    "borderCross=[]\n",
    "for emp in map(BorderCross._make, csv.reader(open(\"Border_Crossing_Entry_Data.csv\", \"r\"))):\n",
    "    borderCross.append(emp)\n",
    "    \n",
    "borderCross.pop(0)\n",
    "\n",
    "borderCross"
   ]
  },
  {
   "cell_type": "code",
   "execution_count": 3,
   "metadata": {},
   "outputs": [],
   "source": [
    "Report = collections.namedtuple('Report', 'Border, Date, Measure, Value, Average')\n",
    "\n",
    "report=[]\n",
    "unique_records = dict()\n",
    "unique_border_measures = dict()\n",
    "\n",
    "for entry in borderCross:\n",
    "    border_measure = entry.Border + ',' + entry.Measure\n",
    "    unique_record_string = border_measure + ',' + entry.Date\n",
    "\n",
    "    if unique_record_string not in unique_records.keys():\n",
    "        unique_records[unique_record_string] = len(report)\n",
    "        temp_output = Report(entry.Border, dt.strptime(entry.Date, '%m/%d/%Y %I:%M:%S %p'), entry.Measure, int(entry.Value), 0)\n",
    "        report.append(temp_output)\n",
    "            \n",
    "    else:\n",
    "        record_index = unique_records[unique_record_string]\n",
    "        report[record_index]=report[record_index]._replace(Value=report[record_index].Value+int(entry.Value))\n",
    "    \n",
    "    if border_measure not in unique_border_measures:\n",
    "        unique_border_measures[border_measure] = []\n",
    "    \n",
    "    unique_border_measures[border_measure].append((dt.strptime(entry.Date, '%m/%d/%Y %I:%M:%S %p'), int(entry.Value)))"
   ]
  },
  {
   "cell_type": "code",
   "execution_count": 4,
   "metadata": {},
   "outputs": [
    {
     "data": {
      "text/plain": [
       "{'US-Canada Border,Truck Containers Full': [(datetime.datetime(2019, 3, 1, 0, 0),\n",
       "   6483)],\n",
       " 'US-Canada Border,Trains': [(datetime.datetime(2019, 3, 1, 0, 0), 19)],\n",
       " 'US-Mexico Border,Pedestrians': [(datetime.datetime(2019, 3, 1, 0, 0),\n",
       "   346158),\n",
       "  (datetime.datetime(2019, 2, 1, 0, 0), 156891),\n",
       "  (datetime.datetime(2019, 2, 1, 0, 0), 15272),\n",
       "  (datetime.datetime(2019, 1, 1, 0, 0), 56810)],\n",
       " 'US-Canada Border,Truck Containers Empty': [(datetime.datetime(2019, 2, 1, 0, 0),\n",
       "   1319)]}"
      ]
     },
     "execution_count": 4,
     "metadata": {},
     "output_type": "execute_result"
    }
   ],
   "source": [
    "unique_border_measures"
   ]
  },
  {
   "cell_type": "code",
   "execution_count": 5,
   "metadata": {},
   "outputs": [],
   "source": [
    "# sort\n",
    "report.sort(key=lambda x:x.Border, reverse = True)\n",
    "report.sort(key=lambda x:x.Measure,reverse = True)\n",
    "report.sort(key=lambda x:x.Value,reverse = True)\n",
    "report.sort(key=lambda x:x.Date,reverse = True)            "
   ]
  },
  {
   "cell_type": "code",
   "execution_count": 6,
   "metadata": {},
   "outputs": [
    {
     "data": {
      "text/plain": [
       "[Report(Border='US-Mexico Border', Date=datetime.datetime(2019, 3, 1, 0, 0), Measure='Pedestrians', Value=346158, Average=0),\n",
       " Report(Border='US-Canada Border', Date=datetime.datetime(2019, 3, 1, 0, 0), Measure='Truck Containers Full', Value=6483, Average=0),\n",
       " Report(Border='US-Canada Border', Date=datetime.datetime(2019, 3, 1, 0, 0), Measure='Trains', Value=19, Average=0),\n",
       " Report(Border='US-Mexico Border', Date=datetime.datetime(2019, 2, 1, 0, 0), Measure='Pedestrians', Value=172163, Average=0),\n",
       " Report(Border='US-Canada Border', Date=datetime.datetime(2019, 2, 1, 0, 0), Measure='Truck Containers Empty', Value=1319, Average=0),\n",
       " Report(Border='US-Mexico Border', Date=datetime.datetime(2019, 1, 1, 0, 0), Measure='Pedestrians', Value=56810, Average=0)]"
      ]
     },
     "execution_count": 6,
     "metadata": {},
     "output_type": "execute_result"
    }
   ],
   "source": [
    "report"
   ]
  },
  {
   "cell_type": "code",
   "execution_count": 9,
   "metadata": {},
   "outputs": [],
   "source": [
    "#calculate running monthly average\n",
    "for index, entry in enumerate(report):\n",
    "    border_measure = entry.Border + ',' + entry.Measure\n",
    "    current_date = entry.Date\n",
    "    \n",
    "    date_value = unique_border_measures[border_measure]\n",
    "    previous_values = [value for datestr, value in date_value if datestr<current_date]\n",
    "    \n",
    "    # Get all previous months per border and measure. Use set() to eliminate duplicate month entries.\n",
    "    previous_months = set([datestr for datestr,_ in date_value if datestr<current_date])\n",
    "    \n",
    "    if previous_months:\n",
    "        report[index]=report[index]._replace(Average=round(0.1+sum(previous_values)/len(previous_months)))\n"
   ]
  },
  {
   "cell_type": "code",
   "execution_count": 16,
   "metadata": {},
   "outputs": [],
   "source": [
    "#write report\n",
    "with open('../output/report.csv', 'w') as f:\n",
    "    w = csv.writer(f)\n",
    "    w.writerow(('Border', 'Date', 'Measure', 'Value', 'Average'))\n",
    "    w.writerows([i.Border, i.Date, i.Measure, i.Value, i.Average] for i in report)"
   ]
  }
 ],
 "metadata": {
  "kernelspec": {
   "display_name": "Python 3",
   "language": "python",
   "name": "python3"
  },
  "language_info": {
   "codemirror_mode": {
    "name": "ipython",
    "version": 3
   },
   "file_extension": ".py",
   "mimetype": "text/x-python",
   "name": "python",
   "nbconvert_exporter": "python",
   "pygments_lexer": "ipython3",
   "version": "3.7.2"
  }
 },
 "nbformat": 4,
 "nbformat_minor": 2
}
